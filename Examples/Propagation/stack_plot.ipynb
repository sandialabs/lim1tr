{
 "cells": [
  {
   "cell_type": "code",
   "execution_count": null,
   "metadata": {},
   "outputs": [],
   "source": [
    "%matplotlib notebook\n",
    "from ipywidgets import *\n",
    "import numpy as np\n",
    "import pickle as p\n",
    "import matplotlib.pyplot as plt\n",
    "plt.rcParams['figure.figsize'] = [9, 6]\n",
    "plt.rcParams['font.size'] = 20"
   ]
  },
  {
   "cell_type": "code",
   "execution_count": null,
   "metadata": {},
   "outputs": [],
   "source": [
    "# Read in pickled output\n",
    "with open('./propagation_output.p', 'rb') as f:\n",
    "    cap_dict, data, rates = p.load(f)"
   ]
  },
  {
   "cell_type": "code",
   "execution_count": null,
   "metadata": {
    "scrolled": false
   },
   "outputs": [],
   "source": [
    "# Line plot of a quantity in space with a slider for time step selection\n",
    "def time_slider_plot(data_array, y_label, y_lims):\n",
    "    fig = plt.figure()\n",
    "    ax = fig.add_subplot(1,1,1)\n",
    "    line, = plt.plot(data['Grid'], data_array[0,:])\n",
    "    ax.set_title('Time: {}s'.format(0.0))\n",
    "    time_inds = IntSlider(value=0, min=0, max=data_array.shape[0]-1,\n",
    "                          step=1, description='Time Step')\n",
    "    plt.xlabel('Location (m)')\n",
    "    plt.ylabel(y_label)\n",
    "    plt.ylim(y_lims)\n",
    "    plt.tight_layout()\n",
    "\n",
    "    def update(ind):\n",
    "        line.set_ydata(data_array[ind['new'],:])\n",
    "        ax.set_title('Time: {}s'.format(data['Time'][ind['new']]))\n",
    "        fig.canvas.draw_idle()\n",
    "\n",
    "    time_inds.observe(update, 'value')\n",
    "    return VBox([time_inds])"
   ]
  },
  {
   "cell_type": "code",
   "execution_count": null,
   "metadata": {},
   "outputs": [],
   "source": [
    "# Plot temperature\n",
    "time_slider_plot(data['Temperature']-273.15, r'Temperature ($^\\mathrm{o}$C)', [0,1000])"
   ]
  },
  {
   "cell_type": "code",
   "execution_count": null,
   "metadata": {},
   "outputs": [],
   "source": [
    "# Plot the reactant mass fraction\n",
    "density = cap_dict['Materials']['Battery']['rho']\n",
    "time_slider_plot(data['R']/density, r'Reactant Mass Fraction', [0, 0.5])"
   ]
  },
  {
   "cell_type": "code",
   "execution_count": null,
   "metadata": {},
   "outputs": [],
   "source": [
    "# Plot interface temperatures\n",
    "plt.figure()\n",
    "for i in range(data['Interface Temperature'].shape[1]):\n",
    "    plt.plot(data['Time'], data['Interface Temperature'][:,i]-273.15, label='Inteface {}'.format(i))\n",
    "plt.xlabel('Time (s)')\n",
    "plt.ylabel(r'Temperature ($^\\mathrm{o}$C)')\n",
    "plt.legend()"
   ]
  },
  {
   "cell_type": "code",
   "execution_count": null,
   "metadata": {},
   "outputs": [],
   "source": []
  }
 ],
 "metadata": {
  "kernelspec": {
   "display_name": "Python 3 (ipykernel)",
   "language": "python",
   "name": "python3"
  },
  "language_info": {
   "codemirror_mode": {
    "name": "ipython",
    "version": 3
   },
   "file_extension": ".py",
   "mimetype": "text/x-python",
   "name": "python",
   "nbconvert_exporter": "python",
   "pygments_lexer": "ipython3",
   "version": "3.9.12"
  }
 },
 "nbformat": 4,
 "nbformat_minor": 2
}
